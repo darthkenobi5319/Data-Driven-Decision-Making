{
  "nbformat": 4,
  "nbformat_minor": 0,
  "metadata": {
    "colab": {
      "name": "DDDMProject.ipynb",
      "provenance": [],
      "collapsed_sections": [],
      "include_colab_link": true
    },
    "kernelspec": {
      "name": "python3",
      "display_name": "Python 3"
    },
    "accelerator": "GPU"
  },
  "cells": [
    {
      "cell_type": "markdown",
      "metadata": {
        "id": "view-in-github",
        "colab_type": "text"
      },
      "source": [
        "<a href=\"https://colab.research.google.com/github/darthkenobi5319/Data-Driven-Decision-Making/blob/master/DDDMProject.ipynb\" target=\"_parent\"><img src=\"https://colab.research.google.com/assets/colab-badge.svg\" alt=\"Open In Colab\"/></a>"
      ]
    },
    {
      "cell_type": "markdown",
      "metadata": {
        "id": "8_HUajKicknC",
        "colab_type": "text"
      },
      "source": [
        "EDA\n"
      ]
    },
    {
      "cell_type": "code",
      "metadata": {
        "id": "T4snRk3R0lw7",
        "colab_type": "code",
        "colab": {}
      },
      "source": [
        "import pandas as pd\n",
        "import numpy as np\n",
        "url = 'https://raw.githubusercontent.com/darthkenobi5319/Data-Driven-Decision-Making/master/Project/FinalProjectTrain.csv'\n",
        "df1 = pd.read_csv(url)"
      ],
      "execution_count": 0,
      "outputs": []
    },
    {
      "cell_type": "code",
      "metadata": {
        "id": "pF5V01Ts2Xee",
        "colab_type": "code",
        "colab": {}
      },
      "source": [
        "import warnings\n",
        "warnings.filterwarnings(action='once')"
      ],
      "execution_count": 0,
      "outputs": []
    },
    {
      "cell_type": "code",
      "metadata": {
        "id": "7ZKEGXHy4IRH",
        "colab_type": "code",
        "outputId": "c1c964c5-cbf9-4a88-b0d2-e2a8c1aa16b9",
        "colab": {
          "base_uri": "https://localhost:8080/",
          "height": 195
        }
      },
      "source": [
        "df1.head()"
      ],
      "execution_count": 0,
      "outputs": [
        {
          "output_type": "execute_result",
          "data": {
            "text/html": [
              "<div>\n",
              "<style scoped>\n",
              "    .dataframe tbody tr th:only-of-type {\n",
              "        vertical-align: middle;\n",
              "    }\n",
              "\n",
              "    .dataframe tbody tr th {\n",
              "        vertical-align: top;\n",
              "    }\n",
              "\n",
              "    .dataframe thead th {\n",
              "        text-align: right;\n",
              "    }\n",
              "</style>\n",
              "<table border=\"1\" class=\"dataframe\">\n",
              "  <thead>\n",
              "    <tr style=\"text-align: right;\">\n",
              "      <th></th>\n",
              "      <th>Unnamed: 0</th>\n",
              "      <th>age</th>\n",
              "      <th>job</th>\n",
              "      <th>marital</th>\n",
              "      <th>education</th>\n",
              "      <th>default</th>\n",
              "      <th>balance</th>\n",
              "      <th>housing</th>\n",
              "      <th>loan</th>\n",
              "      <th>contact</th>\n",
              "      <th>day</th>\n",
              "      <th>month</th>\n",
              "      <th>campaign</th>\n",
              "      <th>pdays</th>\n",
              "      <th>previous</th>\n",
              "      <th>poutcome</th>\n",
              "      <th>deposit</th>\n",
              "    </tr>\n",
              "  </thead>\n",
              "  <tbody>\n",
              "    <tr>\n",
              "      <th>0</th>\n",
              "      <td>7524</td>\n",
              "      <td>59</td>\n",
              "      <td>technician</td>\n",
              "      <td>married</td>\n",
              "      <td>secondary</td>\n",
              "      <td>no</td>\n",
              "      <td>0</td>\n",
              "      <td>no</td>\n",
              "      <td>no</td>\n",
              "      <td>cellular</td>\n",
              "      <td>29</td>\n",
              "      <td>aug</td>\n",
              "      <td>2</td>\n",
              "      <td>-1</td>\n",
              "      <td>0</td>\n",
              "      <td>unknown</td>\n",
              "      <td>no</td>\n",
              "    </tr>\n",
              "    <tr>\n",
              "      <th>1</th>\n",
              "      <td>4777</td>\n",
              "      <td>31</td>\n",
              "      <td>technician</td>\n",
              "      <td>single</td>\n",
              "      <td>tertiary</td>\n",
              "      <td>no</td>\n",
              "      <td>454</td>\n",
              "      <td>no</td>\n",
              "      <td>no</td>\n",
              "      <td>cellular</td>\n",
              "      <td>30</td>\n",
              "      <td>apr</td>\n",
              "      <td>1</td>\n",
              "      <td>-1</td>\n",
              "      <td>0</td>\n",
              "      <td>unknown</td>\n",
              "      <td>yes</td>\n",
              "    </tr>\n",
              "    <tr>\n",
              "      <th>2</th>\n",
              "      <td>1041</td>\n",
              "      <td>34</td>\n",
              "      <td>admin.</td>\n",
              "      <td>single</td>\n",
              "      <td>tertiary</td>\n",
              "      <td>no</td>\n",
              "      <td>4254</td>\n",
              "      <td>yes</td>\n",
              "      <td>no</td>\n",
              "      <td>cellular</td>\n",
              "      <td>21</td>\n",
              "      <td>nov</td>\n",
              "      <td>1</td>\n",
              "      <td>-1</td>\n",
              "      <td>0</td>\n",
              "      <td>unknown</td>\n",
              "      <td>yes</td>\n",
              "    </tr>\n",
              "    <tr>\n",
              "      <th>3</th>\n",
              "      <td>3137</td>\n",
              "      <td>33</td>\n",
              "      <td>technician</td>\n",
              "      <td>married</td>\n",
              "      <td>secondary</td>\n",
              "      <td>no</td>\n",
              "      <td>303</td>\n",
              "      <td>yes</td>\n",
              "      <td>no</td>\n",
              "      <td>cellular</td>\n",
              "      <td>3</td>\n",
              "      <td>feb</td>\n",
              "      <td>1</td>\n",
              "      <td>301</td>\n",
              "      <td>5</td>\n",
              "      <td>success</td>\n",
              "      <td>yes</td>\n",
              "    </tr>\n",
              "    <tr>\n",
              "      <th>4</th>\n",
              "      <td>2829</td>\n",
              "      <td>38</td>\n",
              "      <td>blue-collar</td>\n",
              "      <td>single</td>\n",
              "      <td>secondary</td>\n",
              "      <td>no</td>\n",
              "      <td>0</td>\n",
              "      <td>no</td>\n",
              "      <td>no</td>\n",
              "      <td>cellular</td>\n",
              "      <td>27</td>\n",
              "      <td>oct</td>\n",
              "      <td>1</td>\n",
              "      <td>75</td>\n",
              "      <td>3</td>\n",
              "      <td>failure</td>\n",
              "      <td>yes</td>\n",
              "    </tr>\n",
              "  </tbody>\n",
              "</table>\n",
              "</div>"
            ],
            "text/plain": [
              "   Unnamed: 0  age          job  marital  ... pdays previous  poutcome deposit\n",
              "0        7524   59   technician  married  ...    -1        0   unknown      no\n",
              "1        4777   31   technician   single  ...    -1        0   unknown     yes\n",
              "2        1041   34       admin.   single  ...    -1        0   unknown     yes\n",
              "3        3137   33   technician  married  ...   301        5   success     yes\n",
              "4        2829   38  blue-collar   single  ...    75        3   failure     yes\n",
              "\n",
              "[5 rows x 17 columns]"
            ]
          },
          "metadata": {
            "tags": []
          },
          "execution_count": 3
        }
      ]
    },
    {
      "cell_type": "code",
      "metadata": {
        "id": "rqmCcqhycfDO",
        "colab_type": "code",
        "outputId": "6f261da3-c233-494b-fc35-839360341188",
        "colab": {
          "base_uri": "https://localhost:8080/",
          "height": 84
        }
      },
      "source": [
        "df1.columns"
      ],
      "execution_count": 0,
      "outputs": [
        {
          "output_type": "execute_result",
          "data": {
            "text/plain": [
              "Index(['Unnamed: 0', 'age', 'job', 'marital', 'education', 'default',\n",
              "       'balance', 'housing', 'loan', 'contact', 'day', 'month', 'campaign',\n",
              "       'pdays', 'previous', 'poutcome', 'deposit'],\n",
              "      dtype='object')"
            ]
          },
          "metadata": {
            "tags": []
          },
          "execution_count": 4
        }
      ]
    },
    {
      "cell_type": "code",
      "metadata": {
        "id": "7-6eN7HLg9vE",
        "colab_type": "code",
        "colab": {}
      },
      "source": [
        "import seaborn as sns\n",
        "import matplotlib.pyplot as plt"
      ],
      "execution_count": 0,
      "outputs": []
    },
    {
      "cell_type": "code",
      "metadata": {
        "id": "3ELdzsC3cn1F",
        "colab_type": "code",
        "outputId": "9613a82c-2ccd-4147-8b05-4ac745156607",
        "colab": {
          "base_uri": "https://localhost:8080/",
          "height": 319
        }
      },
      "source": [
        ""
      ],
      "execution_count": 0,
      "outputs": [
        {
          "output_type": "execute_result",
          "data": {
            "text/plain": [
              "Unnamed: 0     int64\n",
              "age            int64\n",
              "job           object\n",
              "marital       object\n",
              "education     object\n",
              "default       object\n",
              "balance        int64\n",
              "housing       object\n",
              "loan          object\n",
              "contact       object\n",
              "day            int64\n",
              "month         object\n",
              "campaign       int64\n",
              "pdays          int64\n",
              "previous       int64\n",
              "poutcome      object\n",
              "deposit       object\n",
              "dtype: object"
            ]
          },
          "metadata": {
            "tags": []
          },
          "execution_count": 9
        }
      ]
    },
    {
      "cell_type": "code",
      "metadata": {
        "id": "OMev0Bu4hThf",
        "colab_type": "code",
        "outputId": "7afbee37-4329-4ddf-99b0-4274d1403bb0",
        "colab": {
          "base_uri": "https://localhost:8080/",
          "height": 1000
        }
      },
      "source": [
        "categorical = ['job', 'marital', 'education', 'default','day','month', 'housing', 'loan', 'contact', 'poutcome']\n",
        "numeric = ['balance','campaign', 'pdays', 'previous']\n",
        "for i in numeric:\n",
        "    sns.set(style=\"whitegrid\")\n",
        "    yes = df1.groupby('deposit').get_group(\"yes\")\n",
        "    no = df1.groupby('deposit').get_group(\"no\")\n",
        "    f, axes = plt.subplots(1, 2, figsize=(10, 10), sharey=True)\n",
        "    f.suptitle(i)\n",
        "    yes_array = pd.Series(list(yes[i]), name=\"yes_deposit\")\n",
        "    no_array = pd.Series(list(no[i]), name=\"no_deposit\")\n",
        "    sns.distplot(yes_array,ax = axes[0])\n",
        "    sns.distplot(no_array,ax = axes[1])\n"
      ],
      "execution_count": 0,
      "outputs": [
        {
          "output_type": "display_data",
          "data": {
            "image/png": "[encoded data removed]",
            "text/plain": [
              "<Figure size 720x720 with 2 Axes>"
            ]
          },
          "metadata": {
            "tags": []
          }
        },
        {
          "output_type": "display_data",
          "data": {
            "image/png": "[encoded data removed]",
            "text/plain": [
              "<Figure size 720x720 with 2 Axes>"
            ]
          },
          "metadata": {
            "tags": []
          }
        },
        {
          "output_type": "display_data",
          "data": {
            "image/png": "[encoded data removed]",
            "text/plain": [
              "<Figure size 720x720 with 2 Axes>"
            ]
          },
          "metadata": {
            "tags": []
          }
        },
        {
          "output_type": "display_data",
          "data": {
            "image/png": "[encoded data removed]",
            "text/plain": [
              "<Figure size 720x720 with 2 Axes>"
            ]
          },
          "metadata": {
            "tags": []
          }
        }
      ]
    },
    {
      "cell_type": "code",
      "metadata": {
        "id": "VrJnj6xJpwcO",
        "colab_type": "code",
        "outputId": "464ae14c-a2c7-429e-aefc-0f8c44892643",
        "colab": {
          "base_uri": "https://localhost:8080/",
          "height": 1000
        }
      },
      "source": [
        "for j in categorical:\n",
        "    sns.set(style=\"whitegrid\")\n",
        "    fig, ax = plt.subplots(1, 1, figsize=(5, 5))\n",
        "    ax = sns.countplot(x = j,hue = \"deposit\", data=df1)"
      ],
      "execution_count": 0,
      "outputs": [
        {
          "output_type": "display_data",
          "data": {
            "image/png": "[encoded data removed]",
            "text/plain": [
              "<Figure size 360x360 with 1 Axes>"
            ]
          },
          "metadata": {
            "tags": []
          }
        },
        {
          "output_type": "display_data",
          "data": {
            "image/png": "[encoded data removed]",
            "text/plain": [
              "<Figure size 360x360 with 1 Axes>"
            ]
          },
          "metadata": {
            "tags": []
          }
        },
        {
          "output_type": "display_data",
          "data": {
            "image/png": "[encoded data removed]",
            "text/plain": [
              "<Figure size 360x360 with 1 Axes>"
            ]
          },
          "metadata": {
            "tags": []
          }
        },
        {
          "output_type": "display_data",
          "data": {
            "image/png": "[encoded data removed]",
            "text/plain": [
              "<Figure size 360x360 with 1 Axes>"
            ]
          },
          "metadata": {
            "tags": []
          }
        },
        {
          "output_type": "display_data",
          "data": {
            "image/png": "[encoded data removed]",
            "text/plain": [
              "<Figure size 360x360 with 1 Axes>"
            ]
          },
          "metadata": {
            "tags": []
          }
        },
        {
          "output_type": "display_data",
          "data": {
            "image/png": "[encoded data removed]",
            "text/plain": [
              "<Figure size 360x360 with 1 Axes>"
            ]
          },
          "metadata": {
            "tags": []
          }
        },
        {
          "output_type": "display_data",
          "data": {
            "image/png": "[encoded data removed]",
            "text/plain": [
              "<Figure size 360x360 with 1 Axes>"
            ]
          },
          "metadata": {
            "tags": []
          }
        },
        {
          "output_type": "display_data",
          "data": {
            "image/png": "[encoded data removed]",
            "text/plain": [
              "<Figure size 360x360 with 1 Axes>"
            ]
          },
          "metadata": {
            "tags": []
          }
        },
        {
          "output_type": "display_data",
          "data": {
            "image/png": "[encoded data removed]",
            "text/plain": [
              "<Figure size 360x360 with 1 Axes>"
            ]
          },
          "metadata": {
            "tags": []
          }
        },
        {
          "output_type": "display_data",
          "data": {
            "image/png": "[encoded data removed]",
            "text/plain": [
              "<Figure size 360x360 with 1 Axes>"
            ]
          },
          "metadata": {
            "tags": []
          }
        }
      ]
    },
    {
      "cell_type": "code",
      "metadata": {
        "id": "OGfnTEbRxcNx",
        "colab_type": "code",
        "colab": {}
      },
      "source": [
        "#Seperate the dataset(Stacking)\n",
        "\n",
        "df_1 = df1[['age', 'job', 'marital', 'education', 'default',\n",
        "       'balance', 'housing', 'loan', 'contact', 'month', 'campaign',\n",
        "       'pdays', 'previous', 'poutcome', 'deposit']]\n",
        "\n",
        "df_prevCont = df_1[df_1['pdays'] != -1]\n",
        "df_prevNotCont = df_1[df_1['pdays'] == -1]"
      ],
      "execution_count": 0,
      "outputs": []
    },
    {
      "cell_type": "code",
      "metadata": {
        "id": "4YR9uSv1E07f",
        "colab_type": "code",
        "outputId": "066f0dca-cd92-4c7f-aa62-135b32e3d64f",
        "colab": {
          "base_uri": "https://localhost:8080/",
          "height": 52
        }
      },
      "source": [
        "print(df_prevCont.shape)\n",
        "print(df_prevNotCont.shape)"
      ],
      "execution_count": 0,
      "outputs": [
        {
          "output_type": "stream",
          "text": [
            "(1988, 15)\n",
            "(5825, 15)\n"
          ],
          "name": "stdout"
        }
      ]
    },
    {
      "cell_type": "code",
      "metadata": {
        "id": "f25U0fv_t0Aw",
        "colab_type": "code",
        "colab": {}
      },
      "source": [
        "X_prev = pd.get_dummies(data= df_prevCont, columns=['job', 'marital', 'education', 'default','month', 'housing', 'loan', 'contact', 'poutcome'],drop_first = True).drop(['deposit'],axis=1)\n",
        "X_prevNot = pd.get_dummies(data= df_prevNotCont, columns=['job', 'marital', 'education', 'default','month', 'housing', 'loan', 'contact', 'poutcome'],drop_first = True).drop(['deposit','pdays'],axis=1)\n",
        "y_prev = df_prevCont['deposit']\n",
        "y_prevNot = df_prevNotCont['deposit']"
      ],
      "execution_count": 0,
      "outputs": []
    },
    {
      "cell_type": "code",
      "metadata": {
        "id": "Aa9Ft-pB1xMn",
        "colab_type": "code",
        "outputId": "db33233f-f39e-4d79-d6a5-62f568d56aef",
        "colab": {
          "base_uri": "https://localhost:8080/",
          "height": 231
        }
      },
      "source": [
        "X_prev.head()"
      ],
      "execution_count": 0,
      "outputs": [
        {
          "output_type": "execute_result",
          "data": {
            "text/html": [
              "<div>\n",
              "<style scoped>\n",
              "    .dataframe tbody tr th:only-of-type {\n",
              "        vertical-align: middle;\n",
              "    }\n",
              "\n",
              "    .dataframe tbody tr th {\n",
              "        vertical-align: top;\n",
              "    }\n",
              "\n",
              "    .dataframe thead th {\n",
              "        text-align: right;\n",
              "    }\n",
              "</style>\n",
              "<table border=\"1\" class=\"dataframe\">\n",
              "  <thead>\n",
              "    <tr style=\"text-align: right;\">\n",
              "      <th></th>\n",
              "      <th>age</th>\n",
              "      <th>balance</th>\n",
              "      <th>campaign</th>\n",
              "      <th>pdays</th>\n",
              "      <th>previous</th>\n",
              "      <th>job_blue-collar</th>\n",
              "      <th>job_entrepreneur</th>\n",
              "      <th>job_housemaid</th>\n",
              "      <th>job_management</th>\n",
              "      <th>job_retired</th>\n",
              "      <th>job_self-employed</th>\n",
              "      <th>job_services</th>\n",
              "      <th>job_student</th>\n",
              "      <th>job_technician</th>\n",
              "      <th>job_unemployed</th>\n",
              "      <th>job_unknown</th>\n",
              "      <th>marital_married</th>\n",
              "      <th>marital_single</th>\n",
              "      <th>education_secondary</th>\n",
              "      <th>education_tertiary</th>\n",
              "      <th>education_unknown</th>\n",
              "      <th>default_yes</th>\n",
              "      <th>month_aug</th>\n",
              "      <th>month_dec</th>\n",
              "      <th>month_feb</th>\n",
              "      <th>month_jan</th>\n",
              "      <th>month_jul</th>\n",
              "      <th>month_jun</th>\n",
              "      <th>month_mar</th>\n",
              "      <th>month_may</th>\n",
              "      <th>month_nov</th>\n",
              "      <th>month_oct</th>\n",
              "      <th>month_sep</th>\n",
              "      <th>housing_yes</th>\n",
              "      <th>loan_yes</th>\n",
              "      <th>contact_telephone</th>\n",
              "      <th>contact_unknown</th>\n",
              "      <th>poutcome_other</th>\n",
              "      <th>poutcome_success</th>\n",
              "      <th>poutcome_unknown</th>\n",
              "    </tr>\n",
              "  </thead>\n",
              "  <tbody>\n",
              "    <tr>\n",
              "      <th>3</th>\n",
              "      <td>33</td>\n",
              "      <td>303</td>\n",
              "      <td>1</td>\n",
              "      <td>301</td>\n",
              "      <td>5</td>\n",
              "      <td>0</td>\n",
              "      <td>0</td>\n",
              "      <td>0</td>\n",
              "      <td>0</td>\n",
              "      <td>0</td>\n",
              "      <td>0</td>\n",
              "      <td>0</td>\n",
              "      <td>0</td>\n",
              "      <td>1</td>\n",
              "      <td>0</td>\n",
              "      <td>0</td>\n",
              "      <td>1</td>\n",
              "      <td>0</td>\n",
              "      <td>1</td>\n",
              "      <td>0</td>\n",
              "      <td>0</td>\n",
              "      <td>0</td>\n",
              "      <td>0</td>\n",
              "      <td>0</td>\n",
              "      <td>1</td>\n",
              "      <td>0</td>\n",
              "      <td>0</td>\n",
              "      <td>0</td>\n",
              "      <td>0</td>\n",
              "      <td>0</td>\n",
              "      <td>0</td>\n",
              "      <td>0</td>\n",
              "      <td>0</td>\n",
              "      <td>1</td>\n",
              "      <td>0</td>\n",
              "      <td>0</td>\n",
              "      <td>0</td>\n",
              "      <td>0</td>\n",
              "      <td>1</td>\n",
              "      <td>0</td>\n",
              "    </tr>\n",
              "    <tr>\n",
              "      <th>4</th>\n",
              "      <td>38</td>\n",
              "      <td>0</td>\n",
              "      <td>1</td>\n",
              "      <td>75</td>\n",
              "      <td>3</td>\n",
              "      <td>1</td>\n",
              "      <td>0</td>\n",
              "      <td>0</td>\n",
              "      <td>0</td>\n",
              "      <td>0</td>\n",
              "      <td>0</td>\n",
              "      <td>0</td>\n",
              "      <td>0</td>\n",
              "      <td>0</td>\n",
              "      <td>0</td>\n",
              "      <td>0</td>\n",
              "      <td>0</td>\n",
              "      <td>1</td>\n",
              "      <td>1</td>\n",
              "      <td>0</td>\n",
              "      <td>0</td>\n",
              "      <td>0</td>\n",
              "      <td>0</td>\n",
              "      <td>0</td>\n",
              "      <td>0</td>\n",
              "      <td>0</td>\n",
              "      <td>0</td>\n",
              "      <td>0</td>\n",
              "      <td>0</td>\n",
              "      <td>0</td>\n",
              "      <td>0</td>\n",
              "      <td>1</td>\n",
              "      <td>0</td>\n",
              "      <td>0</td>\n",
              "      <td>0</td>\n",
              "      <td>0</td>\n",
              "      <td>0</td>\n",
              "      <td>0</td>\n",
              "      <td>0</td>\n",
              "      <td>0</td>\n",
              "    </tr>\n",
              "    <tr>\n",
              "      <th>10</th>\n",
              "      <td>43</td>\n",
              "      <td>386</td>\n",
              "      <td>1</td>\n",
              "      <td>92</td>\n",
              "      <td>4</td>\n",
              "      <td>0</td>\n",
              "      <td>0</td>\n",
              "      <td>0</td>\n",
              "      <td>0</td>\n",
              "      <td>0</td>\n",
              "      <td>0</td>\n",
              "      <td>0</td>\n",
              "      <td>0</td>\n",
              "      <td>0</td>\n",
              "      <td>0</td>\n",
              "      <td>0</td>\n",
              "      <td>0</td>\n",
              "      <td>1</td>\n",
              "      <td>1</td>\n",
              "      <td>0</td>\n",
              "      <td>0</td>\n",
              "      <td>0</td>\n",
              "      <td>0</td>\n",
              "      <td>0</td>\n",
              "      <td>0</td>\n",
              "      <td>0</td>\n",
              "      <td>0</td>\n",
              "      <td>0</td>\n",
              "      <td>0</td>\n",
              "      <td>0</td>\n",
              "      <td>0</td>\n",
              "      <td>1</td>\n",
              "      <td>0</td>\n",
              "      <td>0</td>\n",
              "      <td>0</td>\n",
              "      <td>0</td>\n",
              "      <td>0</td>\n",
              "      <td>0</td>\n",
              "      <td>1</td>\n",
              "      <td>0</td>\n",
              "    </tr>\n",
              "    <tr>\n",
              "      <th>11</th>\n",
              "      <td>28</td>\n",
              "      <td>113</td>\n",
              "      <td>3</td>\n",
              "      <td>105</td>\n",
              "      <td>1</td>\n",
              "      <td>0</td>\n",
              "      <td>0</td>\n",
              "      <td>0</td>\n",
              "      <td>0</td>\n",
              "      <td>0</td>\n",
              "      <td>0</td>\n",
              "      <td>0</td>\n",
              "      <td>0</td>\n",
              "      <td>1</td>\n",
              "      <td>0</td>\n",
              "      <td>0</td>\n",
              "      <td>0</td>\n",
              "      <td>1</td>\n",
              "      <td>1</td>\n",
              "      <td>0</td>\n",
              "      <td>0</td>\n",
              "      <td>0</td>\n",
              "      <td>1</td>\n",
              "      <td>0</td>\n",
              "      <td>0</td>\n",
              "      <td>0</td>\n",
              "      <td>0</td>\n",
              "      <td>0</td>\n",
              "      <td>0</td>\n",
              "      <td>0</td>\n",
              "      <td>0</td>\n",
              "      <td>0</td>\n",
              "      <td>0</td>\n",
              "      <td>0</td>\n",
              "      <td>0</td>\n",
              "      <td>0</td>\n",
              "      <td>0</td>\n",
              "      <td>0</td>\n",
              "      <td>0</td>\n",
              "      <td>0</td>\n",
              "    </tr>\n",
              "    <tr>\n",
              "      <th>12</th>\n",
              "      <td>59</td>\n",
              "      <td>2769</td>\n",
              "      <td>1</td>\n",
              "      <td>131</td>\n",
              "      <td>2</td>\n",
              "      <td>0</td>\n",
              "      <td>0</td>\n",
              "      <td>0</td>\n",
              "      <td>1</td>\n",
              "      <td>0</td>\n",
              "      <td>0</td>\n",
              "      <td>0</td>\n",
              "      <td>0</td>\n",
              "      <td>0</td>\n",
              "      <td>0</td>\n",
              "      <td>0</td>\n",
              "      <td>1</td>\n",
              "      <td>0</td>\n",
              "      <td>0</td>\n",
              "      <td>0</td>\n",
              "      <td>0</td>\n",
              "      <td>0</td>\n",
              "      <td>0</td>\n",
              "      <td>0</td>\n",
              "      <td>0</td>\n",
              "      <td>0</td>\n",
              "      <td>0</td>\n",
              "      <td>0</td>\n",
              "      <td>0</td>\n",
              "      <td>0</td>\n",
              "      <td>1</td>\n",
              "      <td>0</td>\n",
              "      <td>0</td>\n",
              "      <td>1</td>\n",
              "      <td>0</td>\n",
              "      <td>0</td>\n",
              "      <td>0</td>\n",
              "      <td>0</td>\n",
              "      <td>0</td>\n",
              "      <td>0</td>\n",
              "    </tr>\n",
              "  </tbody>\n",
              "</table>\n",
              "</div>"
            ],
            "text/plain": [
              "    age  balance  campaign  ...  poutcome_other  poutcome_success  poutcome_unknown\n",
              "3    33      303         1  ...               0                 1                 0\n",
              "4    38        0         1  ...               0                 0                 0\n",
              "10   43      386         1  ...               0                 1                 0\n",
              "11   28      113         3  ...               0                 0                 0\n",
              "12   59     2769         1  ...               0                 0                 0\n",
              "\n",
              "[5 rows x 40 columns]"
            ]
          },
          "metadata": {
            "tags": []
          },
          "execution_count": 29
        }
      ]
    },
    {
      "cell_type": "code",
      "metadata": {
        "id": "_orEmeB81B4P",
        "colab_type": "code",
        "colab": {}
      },
      "source": [
        "from sklearn.model_selection import train_test_split\n",
        "x_train1, x_test1, y_train1, y_test1 = train_test_split(X_prev,y_prev.ravel(),test_size=0.30)"
      ],
      "execution_count": 0,
      "outputs": []
    },
    {
      "cell_type": "code",
      "metadata": {
        "id": "gIlEFx9-tkVv",
        "colab_type": "code",
        "outputId": "3260b65e-6e4e-404a-fda2-f6b5568b74b9",
        "colab": {
          "base_uri": "https://localhost:8080/",
          "height": 390
        }
      },
      "source": [
        "!pip install git+https://github.com/scikit-learn-contrib/stability-selection.git"
      ],
      "execution_count": 0,
      "outputs": [
        {
          "output_type": "stream",
          "text": [
            "Collecting git+https://github.com/scikit-learn-contrib/stability-selection.git\n",
            "  Cloning https://github.com/scikit-learn-contrib/stability-selection.git to /tmp/pip-req-build-mubli8lg\n",
            "  Running command git clone -q https://github.com/scikit-learn-contrib/stability-selection.git /tmp/pip-req-build-mubli8lg\n",
            "Requirement already satisfied (use --upgrade to upgrade): stability-selection==0.0.1 from git+https://github.com/scikit-learn-contrib/stability-selection.git in /usr/local/lib/python3.6/dist-packages\n",
            "Requirement already satisfied: nose>=1.1.2 in /usr/local/lib/python3.6/dist-packages (from stability-selection==0.0.1) (1.3.7)\n",
            "Requirement already satisfied: scikit-learn>=0.19 in /usr/local/lib/python3.6/dist-packages (from stability-selection==0.0.1) (0.21.3)\n",
            "Requirement already satisfied: matplotlib>=2.0.0 in /usr/local/lib/python3.6/dist-packages (from stability-selection==0.0.1) (3.0.3)\n",
            "Requirement already satisfied: numpy>=1.8.0 in /usr/local/lib/python3.6/dist-packages (from stability-selection==0.0.1) (1.16.5)\n",
            "Requirement already satisfied: scipy>=0.17.0 in /usr/local/lib/python3.6/dist-packages (from scikit-learn>=0.19->stability-selection==0.0.1) (1.3.1)\n",
            "Requirement already satisfied: joblib>=0.11 in /usr/local/lib/python3.6/dist-packages (from scikit-learn>=0.19->stability-selection==0.0.1) (0.13.2)\n",
            "Requirement already satisfied: python-dateutil>=2.1 in /usr/local/lib/python3.6/dist-packages (from matplotlib>=2.0.0->stability-selection==0.0.1) (2.5.3)\n",
            "Requirement already satisfied: kiwisolver>=1.0.1 in /usr/local/lib/python3.6/dist-packages (from matplotlib>=2.0.0->stability-selection==0.0.1) (1.1.0)\n",
            "Requirement already satisfied: cycler>=0.10 in /usr/local/lib/python3.6/dist-packages (from matplotlib>=2.0.0->stability-selection==0.0.1) (0.10.0)\n",
            "Requirement already satisfied: pyparsing!=2.0.4,!=2.1.2,!=2.1.6,>=2.0.1 in /usr/local/lib/python3.6/dist-packages (from matplotlib>=2.0.0->stability-selection==0.0.1) (2.4.2)\n",
            "Requirement already satisfied: six>=1.5 in /usr/local/lib/python3.6/dist-packages (from python-dateutil>=2.1->matplotlib>=2.0.0->stability-selection==0.0.1) (1.12.0)\n",
            "Requirement already satisfied: setuptools in /usr/local/lib/python3.6/dist-packages (from kiwisolver>=1.0.1->matplotlib>=2.0.0->stability-selection==0.0.1) (41.2.0)\n",
            "Building wheels for collected packages: stability-selection\n",
            "  Building wheel for stability-selection (setup.py) ... \u001b[?25l\u001b[?25hdone\n",
            "  Created wheel for stability-selection: filename=stability_selection-0.0.1-cp36-none-any.whl size=14463 sha256=ce58318d68b7b9bbe6eeec1c374f1a6e4353127a7f1dad5d1344039c33358a72\n",
            "  Stored in directory: /tmp/pip-ephem-wheel-cache-d43j1hyg/wheels/58/be/39/79880712b91ffa56e341ff10586a1956527813437ddd759473\n",
            "Successfully built stability-selection\n"
          ],
          "name": "stdout"
        }
      ]
    },
    {
      "cell_type": "code",
      "metadata": {
        "id": "BIuMvmPvtMSh",
        "colab_type": "code",
        "outputId": "d00f2615-9560-4d46-af80-3b1701b62863",
        "colab": {
          "base_uri": "https://localhost:8080/",
          "height": 72
        }
      },
      "source": [
        "from sklearn.linear_model import LogisticRegression\n",
        "from sklearn.pipeline import Pipeline\n",
        "from sklearn.preprocessing import StandardScaler,RobustScaler\n",
        "from sklearn.utils import check_random_state\n",
        "from stability_selection import StabilitySelection"
      ],
      "execution_count": 0,
      "outputs": [
        {
          "output_type": "stream",
          "text": [
            "/usr/local/lib/python3.6/dist-packages/sklearn/externals/joblib/__init__.py:15: DeprecationWarning: sklearn.externals.joblib is deprecated in 0.21 and will be removed in 0.23. Please import this functionality directly from joblib, which can be installed with: pip install joblib. If this warning is raised when loading pickled models, you may need to re-serialize those models with scikit-learn 0.21+.\n",
            "  warnings.warn(msg, category=DeprecationWarning)\n"
          ],
          "name": "stderr"
        }
      ]
    },
    {
      "cell_type": "code",
      "metadata": {
        "id": "e6NIe9jn0cPJ",
        "colab_type": "code",
        "outputId": "17d4d1a6-b7f6-414a-fbb1-8df5c11a9ba9",
        "colab": {
          "base_uri": "https://localhost:8080/",
          "height": 35
        }
      },
      "source": [
        "# Logistic Regression\n",
        "# For previouly contacted customers\n",
        "\n",
        "\n",
        "\n",
        "# Feature Selection\n",
        "base_estimator = Pipeline([\n",
        "    ('scaler', RobustScaler()),\n",
        "    ('model', LogisticRegression(solver = 'lbfgs',penalty='l2'))\n",
        "])\n",
        "\n",
        "## Here stability selection is instantiated and run\n",
        "selector = StabilitySelection(base_estimator=base_estimator, lambda_name='model__C',\n",
        "                              lambda_grid=np.logspace(-5, -1, 50)).fit(x_train1, y_train1)\n",
        "\n",
        "print(selector.get_support(indices=True))"
      ],
      "execution_count": 0,
      "outputs": [
        {
          "output_type": "stream",
          "text": [
            "[ 0  1  2  3  5 14 18 19 22 24 25 26 27 28 29 30 32 33 34 38]\n"
          ],
          "name": "stdout"
        }
      ]
    },
    {
      "cell_type": "code",
      "metadata": {
        "id": "36C7DE_ACaI0",
        "colab_type": "code",
        "outputId": "4ed08857-0e3e-43cf-c493-2a0f8ecbe04d",
        "colab": {
          "base_uri": "https://localhost:8080/",
          "height": 212
        }
      },
      "source": [
        "x_train1.columns"
      ],
      "execution_count": 0,
      "outputs": [
        {
          "output_type": "execute_result",
          "data": {
            "text/plain": [
              "Index(['age', 'balance', 'campaign', 'pdays', 'previous', 'job_blue-collar',\n",
              "       'job_entrepreneur', 'job_housemaid', 'job_management', 'job_retired',\n",
              "       'job_self-employed', 'job_services', 'job_student', 'job_technician',\n",
              "       'job_unemployed', 'job_unknown', 'marital_married', 'marital_single',\n",
              "       'education_secondary', 'education_tertiary', 'education_unknown',\n",
              "       'default_yes', 'month_aug', 'month_dec', 'month_feb', 'month_jan',\n",
              "       'month_jul', 'month_jun', 'month_mar', 'month_may', 'month_nov',\n",
              "       'month_oct', 'month_sep', 'housing_yes', 'loan_yes',\n",
              "       'contact_telephone', 'contact_unknown', 'poutcome_other',\n",
              "       'poutcome_success', 'poutcome_unknown'],\n",
              "      dtype='object')"
            ]
          },
          "metadata": {
            "tags": []
          },
          "execution_count": 47
        }
      ]
    },
    {
      "cell_type": "code",
      "metadata": {
        "id": "NmCDr5lRA-DZ",
        "colab_type": "code",
        "colab": {}
      },
      "source": [
        "feature_selected = np.array(selector.get_support(indices=True))"
      ],
      "execution_count": 0,
      "outputs": []
    },
    {
      "cell_type": "code",
      "metadata": {
        "id": "FPAWXQBYBP61",
        "colab_type": "code",
        "outputId": "5c739ce7-4a17-474b-ea7b-d7bd7a1a790d",
        "colab": {
          "base_uri": "https://localhost:8080/",
          "height": 55
        }
      },
      "source": [
        "# selected features\n",
        "features = list()\n",
        "for i in range(len(list(x_train1.columns))):\n",
        "  if i in feature_selected:\n",
        "    features.append(list(x_train1.columns)[i])\n",
        "print(features)"
      ],
      "execution_count": 0,
      "outputs": [
        {
          "output_type": "stream",
          "text": [
            "['age', 'balance', 'campaign', 'pdays', 'job_blue-collar', 'job_unemployed', 'education_secondary', 'education_tertiary', 'month_aug', 'month_feb', 'month_jan', 'month_jul', 'month_jun', 'month_mar', 'month_may', 'month_nov', 'month_sep', 'housing_yes', 'loan_yes', 'poutcome_success']\n"
          ],
          "name": "stdout"
        }
      ]
    },
    {
      "cell_type": "code",
      "metadata": {
        "id": "dHQZY5yJB0yQ",
        "colab_type": "code",
        "outputId": "453dc726-32cb-49dc-84fe-c0b0dc66dee4",
        "colab": {
          "base_uri": "https://localhost:8080/",
          "height": 231
        }
      },
      "source": [
        "x_train_new = x_train1[features]\n",
        "x_train_new.head()"
      ],
      "execution_count": 0,
      "outputs": [
        {
          "output_type": "execute_result",
          "data": {
            "text/html": [
              "<div>\n",
              "<style scoped>\n",
              "    .dataframe tbody tr th:only-of-type {\n",
              "        vertical-align: middle;\n",
              "    }\n",
              "\n",
              "    .dataframe tbody tr th {\n",
              "        vertical-align: top;\n",
              "    }\n",
              "\n",
              "    .dataframe thead th {\n",
              "        text-align: right;\n",
              "    }\n",
              "</style>\n",
              "<table border=\"1\" class=\"dataframe\">\n",
              "  <thead>\n",
              "    <tr style=\"text-align: right;\">\n",
              "      <th></th>\n",
              "      <th>age</th>\n",
              "      <th>balance</th>\n",
              "      <th>campaign</th>\n",
              "      <th>pdays</th>\n",
              "      <th>job_blue-collar</th>\n",
              "      <th>job_unemployed</th>\n",
              "      <th>education_secondary</th>\n",
              "      <th>education_tertiary</th>\n",
              "      <th>month_aug</th>\n",
              "      <th>month_feb</th>\n",
              "      <th>month_jan</th>\n",
              "      <th>month_jul</th>\n",
              "      <th>month_jun</th>\n",
              "      <th>month_mar</th>\n",
              "      <th>month_may</th>\n",
              "      <th>month_nov</th>\n",
              "      <th>month_sep</th>\n",
              "      <th>housing_yes</th>\n",
              "      <th>loan_yes</th>\n",
              "      <th>poutcome_success</th>\n",
              "    </tr>\n",
              "  </thead>\n",
              "  <tbody>\n",
              "    <tr>\n",
              "      <th>5241</th>\n",
              "      <td>60</td>\n",
              "      <td>2060</td>\n",
              "      <td>1</td>\n",
              "      <td>88</td>\n",
              "      <td>0</td>\n",
              "      <td>0</td>\n",
              "      <td>1</td>\n",
              "      <td>0</td>\n",
              "      <td>0</td>\n",
              "      <td>0</td>\n",
              "      <td>0</td>\n",
              "      <td>0</td>\n",
              "      <td>0</td>\n",
              "      <td>1</td>\n",
              "      <td>0</td>\n",
              "      <td>0</td>\n",
              "      <td>0</td>\n",
              "      <td>0</td>\n",
              "      <td>0</td>\n",
              "      <td>0</td>\n",
              "    </tr>\n",
              "    <tr>\n",
              "      <th>1597</th>\n",
              "      <td>59</td>\n",
              "      <td>1</td>\n",
              "      <td>2</td>\n",
              "      <td>378</td>\n",
              "      <td>0</td>\n",
              "      <td>0</td>\n",
              "      <td>1</td>\n",
              "      <td>0</td>\n",
              "      <td>0</td>\n",
              "      <td>0</td>\n",
              "      <td>0</td>\n",
              "      <td>0</td>\n",
              "      <td>0</td>\n",
              "      <td>0</td>\n",
              "      <td>0</td>\n",
              "      <td>0</td>\n",
              "      <td>0</td>\n",
              "      <td>0</td>\n",
              "      <td>0</td>\n",
              "      <td>0</td>\n",
              "    </tr>\n",
              "    <tr>\n",
              "      <th>1934</th>\n",
              "      <td>36</td>\n",
              "      <td>1133</td>\n",
              "      <td>1</td>\n",
              "      <td>181</td>\n",
              "      <td>0</td>\n",
              "      <td>0</td>\n",
              "      <td>0</td>\n",
              "      <td>1</td>\n",
              "      <td>1</td>\n",
              "      <td>0</td>\n",
              "      <td>0</td>\n",
              "      <td>0</td>\n",
              "      <td>0</td>\n",
              "      <td>0</td>\n",
              "      <td>0</td>\n",
              "      <td>0</td>\n",
              "      <td>0</td>\n",
              "      <td>1</td>\n",
              "      <td>0</td>\n",
              "      <td>0</td>\n",
              "    </tr>\n",
              "    <tr>\n",
              "      <th>6116</th>\n",
              "      <td>40</td>\n",
              "      <td>334</td>\n",
              "      <td>1</td>\n",
              "      <td>91</td>\n",
              "      <td>0</td>\n",
              "      <td>1</td>\n",
              "      <td>1</td>\n",
              "      <td>0</td>\n",
              "      <td>0</td>\n",
              "      <td>0</td>\n",
              "      <td>0</td>\n",
              "      <td>0</td>\n",
              "      <td>0</td>\n",
              "      <td>1</td>\n",
              "      <td>0</td>\n",
              "      <td>0</td>\n",
              "      <td>0</td>\n",
              "      <td>0</td>\n",
              "      <td>0</td>\n",
              "      <td>0</td>\n",
              "    </tr>\n",
              "    <tr>\n",
              "      <th>7742</th>\n",
              "      <td>39</td>\n",
              "      <td>0</td>\n",
              "      <td>2</td>\n",
              "      <td>307</td>\n",
              "      <td>1</td>\n",
              "      <td>0</td>\n",
              "      <td>1</td>\n",
              "      <td>0</td>\n",
              "      <td>0</td>\n",
              "      <td>0</td>\n",
              "      <td>0</td>\n",
              "      <td>0</td>\n",
              "      <td>0</td>\n",
              "      <td>0</td>\n",
              "      <td>1</td>\n",
              "      <td>0</td>\n",
              "      <td>0</td>\n",
              "      <td>1</td>\n",
              "      <td>0</td>\n",
              "      <td>0</td>\n",
              "    </tr>\n",
              "  </tbody>\n",
              "</table>\n",
              "</div>"
            ],
            "text/plain": [
              "      age  balance  campaign  ...  housing_yes  loan_yes  poutcome_success\n",
              "5241   60     2060         1  ...            0         0                 0\n",
              "1597   59        1         2  ...            0         0                 0\n",
              "1934   36     1133         1  ...            1         0                 0\n",
              "6116   40      334         1  ...            0         0                 0\n",
              "7742   39        0         2  ...            1         0                 0\n",
              "\n",
              "[5 rows x 20 columns]"
            ]
          },
          "metadata": {
            "tags": []
          },
          "execution_count": 45
        }
      ]
    },
    {
      "cell_type": "code",
      "metadata": {
        "id": "rC-cwGrwEJ5V",
        "colab_type": "code",
        "outputId": "d4258131-42a8-4168-d493-4f9e62db4a09",
        "colab": {
          "base_uri": "https://localhost:8080/",
          "height": 231
        }
      },
      "source": [
        "x_test_new = x_test1[features]\n",
        "x_test_new.head()"
      ],
      "execution_count": 0,
      "outputs": [
        {
          "output_type": "execute_result",
          "data": {
            "text/html": [
              "<div>\n",
              "<style scoped>\n",
              "    .dataframe tbody tr th:only-of-type {\n",
              "        vertical-align: middle;\n",
              "    }\n",
              "\n",
              "    .dataframe tbody tr th {\n",
              "        vertical-align: top;\n",
              "    }\n",
              "\n",
              "    .dataframe thead th {\n",
              "        text-align: right;\n",
              "    }\n",
              "</style>\n",
              "<table border=\"1\" class=\"dataframe\">\n",
              "  <thead>\n",
              "    <tr style=\"text-align: right;\">\n",
              "      <th></th>\n",
              "      <th>age</th>\n",
              "      <th>balance</th>\n",
              "      <th>campaign</th>\n",
              "      <th>pdays</th>\n",
              "      <th>job_blue-collar</th>\n",
              "      <th>job_unemployed</th>\n",
              "      <th>education_secondary</th>\n",
              "      <th>education_tertiary</th>\n",
              "      <th>month_aug</th>\n",
              "      <th>month_feb</th>\n",
              "      <th>month_jan</th>\n",
              "      <th>month_jul</th>\n",
              "      <th>month_jun</th>\n",
              "      <th>month_mar</th>\n",
              "      <th>month_may</th>\n",
              "      <th>month_nov</th>\n",
              "      <th>month_sep</th>\n",
              "      <th>housing_yes</th>\n",
              "      <th>loan_yes</th>\n",
              "      <th>poutcome_success</th>\n",
              "    </tr>\n",
              "  </thead>\n",
              "  <tbody>\n",
              "    <tr>\n",
              "      <th>1041</th>\n",
              "      <td>34</td>\n",
              "      <td>1636</td>\n",
              "      <td>1</td>\n",
              "      <td>521</td>\n",
              "      <td>0</td>\n",
              "      <td>0</td>\n",
              "      <td>0</td>\n",
              "      <td>1</td>\n",
              "      <td>0</td>\n",
              "      <td>0</td>\n",
              "      <td>0</td>\n",
              "      <td>0</td>\n",
              "      <td>0</td>\n",
              "      <td>0</td>\n",
              "      <td>0</td>\n",
              "      <td>0</td>\n",
              "      <td>1</td>\n",
              "      <td>1</td>\n",
              "      <td>1</td>\n",
              "      <td>0</td>\n",
              "    </tr>\n",
              "    <tr>\n",
              "      <th>6635</th>\n",
              "      <td>36</td>\n",
              "      <td>828</td>\n",
              "      <td>1</td>\n",
              "      <td>345</td>\n",
              "      <td>1</td>\n",
              "      <td>0</td>\n",
              "      <td>0</td>\n",
              "      <td>0</td>\n",
              "      <td>0</td>\n",
              "      <td>0</td>\n",
              "      <td>0</td>\n",
              "      <td>0</td>\n",
              "      <td>0</td>\n",
              "      <td>0</td>\n",
              "      <td>1</td>\n",
              "      <td>0</td>\n",
              "      <td>0</td>\n",
              "      <td>0</td>\n",
              "      <td>0</td>\n",
              "      <td>0</td>\n",
              "    </tr>\n",
              "    <tr>\n",
              "      <th>1415</th>\n",
              "      <td>28</td>\n",
              "      <td>54</td>\n",
              "      <td>1</td>\n",
              "      <td>371</td>\n",
              "      <td>1</td>\n",
              "      <td>0</td>\n",
              "      <td>0</td>\n",
              "      <td>0</td>\n",
              "      <td>0</td>\n",
              "      <td>0</td>\n",
              "      <td>0</td>\n",
              "      <td>0</td>\n",
              "      <td>0</td>\n",
              "      <td>0</td>\n",
              "      <td>1</td>\n",
              "      <td>0</td>\n",
              "      <td>0</td>\n",
              "      <td>1</td>\n",
              "      <td>0</td>\n",
              "      <td>0</td>\n",
              "    </tr>\n",
              "    <tr>\n",
              "      <th>6489</th>\n",
              "      <td>44</td>\n",
              "      <td>36</td>\n",
              "      <td>1</td>\n",
              "      <td>371</td>\n",
              "      <td>1</td>\n",
              "      <td>0</td>\n",
              "      <td>0</td>\n",
              "      <td>0</td>\n",
              "      <td>0</td>\n",
              "      <td>0</td>\n",
              "      <td>0</td>\n",
              "      <td>0</td>\n",
              "      <td>0</td>\n",
              "      <td>0</td>\n",
              "      <td>1</td>\n",
              "      <td>0</td>\n",
              "      <td>0</td>\n",
              "      <td>1</td>\n",
              "      <td>0</td>\n",
              "      <td>0</td>\n",
              "    </tr>\n",
              "    <tr>\n",
              "      <th>5139</th>\n",
              "      <td>31</td>\n",
              "      <td>459</td>\n",
              "      <td>1</td>\n",
              "      <td>293</td>\n",
              "      <td>0</td>\n",
              "      <td>0</td>\n",
              "      <td>0</td>\n",
              "      <td>0</td>\n",
              "      <td>0</td>\n",
              "      <td>0</td>\n",
              "      <td>0</td>\n",
              "      <td>0</td>\n",
              "      <td>0</td>\n",
              "      <td>0</td>\n",
              "      <td>1</td>\n",
              "      <td>0</td>\n",
              "      <td>0</td>\n",
              "      <td>1</td>\n",
              "      <td>0</td>\n",
              "      <td>1</td>\n",
              "    </tr>\n",
              "  </tbody>\n",
              "</table>\n",
              "</div>"
            ],
            "text/plain": [
              "      age  balance  campaign  ...  housing_yes  loan_yes  poutcome_success\n",
              "1041   34     1636         1  ...            1         1                 0\n",
              "6635   36      828         1  ...            0         0                 0\n",
              "1415   28       54         1  ...            1         0                 0\n",
              "6489   44       36         1  ...            1         0                 0\n",
              "5139   31      459         1  ...            1         0                 1\n",
              "\n",
              "[5 rows x 20 columns]"
            ]
          },
          "metadata": {
            "tags": []
          },
          "execution_count": 50
        }
      ]
    },
    {
      "cell_type": "code",
      "metadata": {
        "id": "AWXpcyGtCHOw",
        "colab_type": "code",
        "outputId": "bda95615-89c5-4ffe-ef24-d22953416496",
        "colab": {
          "base_uri": "https://localhost:8080/",
          "height": 35
        }
      },
      "source": [
        "from sklearn.model_selection import GridSearchCV\n",
        "scale = RobustScaler().fit(x_train_new)\n",
        "x_train_new = scale.transform(x_train_new)\n",
        "x_test_new = scale.transform(x_test_new)\n",
        "\n",
        "param_test = {\n",
        "        'C':np.logspace(-5, -1, 50)\n",
        "    }\n",
        "\n",
        "estimator = LogisticRegression(solver='lbfgs',max_iter = 10000)\n",
        "gsearch = GridSearchCV(estimator, param_grid = param_test, cv=10)\n",
        "gsearch.fit(x_train_new,y_train1)\n",
        "print(gsearch.best_params_)\n",
        "\n"
      ],
      "execution_count": 0,
      "outputs": [
        {
          "output_type": "stream",
          "text": [
            "{'C': 0.1}\n"
          ],
          "name": "stdout"
        }
      ]
    },
    {
      "cell_type": "code",
      "metadata": {
        "id": "H5VtiON3D82w",
        "colab_type": "code",
        "outputId": "d3479ef4-7169-4991-92b5-a886503b255f",
        "colab": {
          "base_uri": "https://localhost:8080/",
          "height": 35
        }
      },
      "source": [
        "from sklearn.metrics import accuracy_score\n",
        "# fit a model with optimal parameters\n",
        "# calculate the score\n",
        "clf = LogisticRegression(C = gsearch.best_params_['C'],solver='lbfgs',max_iter = 10000)\n",
        "clf.fit(x_train_new,y_train1)\n",
        "y_pred = clf.predict(x_test_new)\n",
        "accuracy_score(y_test1,y_pred)"
      ],
      "execution_count": 0,
      "outputs": [
        {
          "output_type": "execute_result",
          "data": {
            "text/plain": [
              "0.7872696817420436"
            ]
          },
          "metadata": {
            "tags": []
          },
          "execution_count": 90
        }
      ]
    },
    {
      "cell_type": "code",
      "metadata": {
        "id": "Ke9JAfxBEZNA",
        "colab_type": "code",
        "outputId": "0126b35c-b230-4b1d-f793-216a82215d3b",
        "colab": {
          "base_uri": "https://localhost:8080/",
          "height": 35
        }
      },
      "source": [
        "# Now we do the same for not contacted\n",
        "x_train2, x_test2, y_train2, y_test2 = train_test_split(X_prevNot,y_prevNot.ravel(),test_size=0.30)\n",
        "# Feature Selection\n",
        "base_estimator = Pipeline([\n",
        "    ('scaler', RobustScaler()),\n",
        "    ('model', LogisticRegression(solver = 'lbfgs',penalty='l2'))\n",
        "])\n",
        "\n",
        "## Here stability selection is instantiated and run\n",
        "selector = StabilitySelection(base_estimator=base_estimator, lambda_name='model__C',\n",
        "                              lambda_grid=np.logspace(-5, -1, 50)).fit(x_train2, y_train2)\n",
        "features_selected = selector.get_support(indices=True)\n",
        "print(features_selected)"
      ],
      "execution_count": 0,
      "outputs": [
        {
          "output_type": "stream",
          "text": [
            "[ 1  2  4  8 11 15 16 18 21 22 24 25 27 28 29 30 31 32 33 35]\n"
          ],
          "name": "stdout"
        }
      ]
    },
    {
      "cell_type": "code",
      "metadata": {
        "id": "XPYFgptmFzHM",
        "colab_type": "code",
        "outputId": "87387ede-3c5f-4e38-89d0-07110df4c275",
        "colab": {
          "base_uri": "https://localhost:8080/",
          "height": 55
        }
      },
      "source": [
        "# selected features\n",
        "features = list()\n",
        "for i in range(len(list(x_train2.columns))):\n",
        "  if i in features_selected:\n",
        "    features.append(list(x_train2.columns)[i])\n",
        "print(features)"
      ],
      "execution_count": 0,
      "outputs": [
        {
          "output_type": "stream",
          "text": [
            "['balance', 'campaign', 'job_blue-collar', 'job_retired', 'job_student', 'marital_married', 'marital_single', 'education_tertiary', 'month_aug', 'month_dec', 'month_jan', 'month_jul', 'month_mar', 'month_may', 'month_nov', 'month_oct', 'month_sep', 'housing_yes', 'loan_yes', 'contact_unknown']\n"
          ],
          "name": "stdout"
        }
      ]
    },
    {
      "cell_type": "code",
      "metadata": {
        "id": "r3R0w8jgH3nj",
        "colab_type": "code",
        "outputId": "a9ef322e-2953-42d8-c741-198f022a8f48",
        "colab": {
          "base_uri": "https://localhost:8080/",
          "height": 231
        }
      },
      "source": [
        "x_train2_new = x_train2[features]\n",
        "x_train2_new.head()\n",
        "x_test2_new = x_test2[features]\n",
        "x_test2_new.head()"
      ],
      "execution_count": 0,
      "outputs": [
        {
          "output_type": "execute_result",
          "data": {
            "text/html": [
              "<div>\n",
              "<style scoped>\n",
              "    .dataframe tbody tr th:only-of-type {\n",
              "        vertical-align: middle;\n",
              "    }\n",
              "\n",
              "    .dataframe tbody tr th {\n",
              "        vertical-align: top;\n",
              "    }\n",
              "\n",
              "    .dataframe thead th {\n",
              "        text-align: right;\n",
              "    }\n",
              "</style>\n",
              "<table border=\"1\" class=\"dataframe\">\n",
              "  <thead>\n",
              "    <tr style=\"text-align: right;\">\n",
              "      <th></th>\n",
              "      <th>balance</th>\n",
              "      <th>campaign</th>\n",
              "      <th>job_blue-collar</th>\n",
              "      <th>job_retired</th>\n",
              "      <th>job_student</th>\n",
              "      <th>marital_married</th>\n",
              "      <th>marital_single</th>\n",
              "      <th>education_tertiary</th>\n",
              "      <th>month_aug</th>\n",
              "      <th>month_dec</th>\n",
              "      <th>month_jan</th>\n",
              "      <th>month_jul</th>\n",
              "      <th>month_mar</th>\n",
              "      <th>month_may</th>\n",
              "      <th>month_nov</th>\n",
              "      <th>month_oct</th>\n",
              "      <th>month_sep</th>\n",
              "      <th>housing_yes</th>\n",
              "      <th>loan_yes</th>\n",
              "      <th>contact_unknown</th>\n",
              "    </tr>\n",
              "  </thead>\n",
              "  <tbody>\n",
              "    <tr>\n",
              "      <th>7541</th>\n",
              "      <td>126</td>\n",
              "      <td>2</td>\n",
              "      <td>0</td>\n",
              "      <td>0</td>\n",
              "      <td>0</td>\n",
              "      <td>0</td>\n",
              "      <td>1</td>\n",
              "      <td>0</td>\n",
              "      <td>1</td>\n",
              "      <td>0</td>\n",
              "      <td>0</td>\n",
              "      <td>0</td>\n",
              "      <td>0</td>\n",
              "      <td>0</td>\n",
              "      <td>0</td>\n",
              "      <td>0</td>\n",
              "      <td>0</td>\n",
              "      <td>0</td>\n",
              "      <td>0</td>\n",
              "      <td>0</td>\n",
              "    </tr>\n",
              "    <tr>\n",
              "      <th>1283</th>\n",
              "      <td>91</td>\n",
              "      <td>3</td>\n",
              "      <td>0</td>\n",
              "      <td>1</td>\n",
              "      <td>0</td>\n",
              "      <td>1</td>\n",
              "      <td>0</td>\n",
              "      <td>0</td>\n",
              "      <td>0</td>\n",
              "      <td>0</td>\n",
              "      <td>0</td>\n",
              "      <td>1</td>\n",
              "      <td>0</td>\n",
              "      <td>0</td>\n",
              "      <td>0</td>\n",
              "      <td>0</td>\n",
              "      <td>0</td>\n",
              "      <td>0</td>\n",
              "      <td>1</td>\n",
              "      <td>1</td>\n",
              "    </tr>\n",
              "    <tr>\n",
              "      <th>5780</th>\n",
              "      <td>486</td>\n",
              "      <td>5</td>\n",
              "      <td>0</td>\n",
              "      <td>0</td>\n",
              "      <td>0</td>\n",
              "      <td>1</td>\n",
              "      <td>0</td>\n",
              "      <td>0</td>\n",
              "      <td>0</td>\n",
              "      <td>0</td>\n",
              "      <td>0</td>\n",
              "      <td>1</td>\n",
              "      <td>0</td>\n",
              "      <td>0</td>\n",
              "      <td>0</td>\n",
              "      <td>0</td>\n",
              "      <td>0</td>\n",
              "      <td>0</td>\n",
              "      <td>0</td>\n",
              "      <td>0</td>\n",
              "    </tr>\n",
              "    <tr>\n",
              "      <th>7664</th>\n",
              "      <td>1435</td>\n",
              "      <td>1</td>\n",
              "      <td>0</td>\n",
              "      <td>0</td>\n",
              "      <td>0</td>\n",
              "      <td>1</td>\n",
              "      <td>0</td>\n",
              "      <td>1</td>\n",
              "      <td>0</td>\n",
              "      <td>0</td>\n",
              "      <td>0</td>\n",
              "      <td>0</td>\n",
              "      <td>0</td>\n",
              "      <td>1</td>\n",
              "      <td>0</td>\n",
              "      <td>0</td>\n",
              "      <td>0</td>\n",
              "      <td>1</td>\n",
              "      <td>0</td>\n",
              "      <td>0</td>\n",
              "    </tr>\n",
              "    <tr>\n",
              "      <th>5451</th>\n",
              "      <td>334</td>\n",
              "      <td>3</td>\n",
              "      <td>1</td>\n",
              "      <td>0</td>\n",
              "      <td>0</td>\n",
              "      <td>1</td>\n",
              "      <td>0</td>\n",
              "      <td>0</td>\n",
              "      <td>1</td>\n",
              "      <td>0</td>\n",
              "      <td>0</td>\n",
              "      <td>0</td>\n",
              "      <td>0</td>\n",
              "      <td>0</td>\n",
              "      <td>0</td>\n",
              "      <td>0</td>\n",
              "      <td>0</td>\n",
              "      <td>0</td>\n",
              "      <td>0</td>\n",
              "      <td>0</td>\n",
              "    </tr>\n",
              "  </tbody>\n",
              "</table>\n",
              "</div>"
            ],
            "text/plain": [
              "      balance  campaign  ...  loan_yes  contact_unknown\n",
              "7541      126         2  ...         0                0\n",
              "1283       91         3  ...         1                1\n",
              "5780      486         5  ...         0                0\n",
              "7664     1435         1  ...         0                0\n",
              "5451      334         3  ...         0                0\n",
              "\n",
              "[5 rows x 20 columns]"
            ]
          },
          "metadata": {
            "tags": []
          },
          "execution_count": 66
        }
      ]
    },
    {
      "cell_type": "code",
      "metadata": {
        "id": "MNmT0r9MJQGq",
        "colab_type": "code",
        "outputId": "9238ef93-64d6-4957-f5c3-612850d85635",
        "colab": {
          "base_uri": "https://localhost:8080/",
          "height": 52
        }
      },
      "source": [
        "print(X_prevNot.shape)\n",
        "print(X_prev.shape)"
      ],
      "execution_count": 0,
      "outputs": [
        {
          "output_type": "stream",
          "text": [
            "(5825, 36)\n",
            "(1988, 40)\n"
          ],
          "name": "stdout"
        }
      ]
    },
    {
      "cell_type": "code",
      "metadata": {
        "id": "R0v51PIhF1B1",
        "colab_type": "code",
        "outputId": "b49e4daa-4daf-49af-fc86-e38440487ea6",
        "colab": {
          "base_uri": "https://localhost:8080/",
          "height": 52
        }
      },
      "source": [
        "scale = RobustScaler().fit(x_train2_new)\n",
        "x_train2_new = scale.transform(x_train2_new)\n",
        "x_test2_new = scale.transform(x_test2_new)\n",
        "\n",
        "param_test = {\n",
        "        'C':np.logspace(-5, -1, 50)\n",
        "    }\n",
        "\n",
        "estimator = LogisticRegression(solver='lbfgs',max_iter = 10000)\n",
        "gsearch = GridSearchCV(estimator, param_grid = param_test, cv=10)\n",
        "gsearch.fit(x_train2_new,y_train2)\n",
        "print(gsearch.best_params_)\n",
        "# fit a model with optimal parameters\n",
        "# calculate the score\n",
        "clf = LogisticRegression(C = gsearch.best_params_['C'],solver='lbfgs',max_iter = 10000)\n",
        "clf.fit(x_train2_new,y_train2)\n",
        "y_pred = clf.predict(x_test2_new)\n",
        "accuracy_score(y_test2,y_pred)"
      ],
      "execution_count": 0,
      "outputs": [
        {
          "output_type": "stream",
          "text": [
            "{'C': 0.05689866029018293}\n"
          ],
          "name": "stdout"
        },
        {
          "output_type": "execute_result",
          "data": {
            "text/plain": [
              "0.6967963386727689"
            ]
          },
          "metadata": {
            "tags": []
          },
          "execution_count": 87
        }
      ]
    },
    {
      "cell_type": "code",
      "metadata": {
        "id": "F0FmX4oJI4YG",
        "colab_type": "code",
        "outputId": "6ecb1801-3664-4f88-808f-bf9f32324518",
        "colab": {
          "base_uri": "https://localhost:8080/",
          "height": 35
        }
      },
      "source": [
        "# Weighted Average Accuracy Score\n",
        "((0.6967963386727689 * 5825) + (0.7872696817420436*1988))/(5825+1988)"
      ],
      "execution_count": 0,
      "outputs": [
        {
          "output_type": "execute_result",
          "data": {
            "text/plain": [
              "0.7198170741164803"
            ]
          },
          "metadata": {
            "tags": []
          },
          "execution_count": 91
        }
      ]
    },
    {
      "cell_type": "markdown",
      "metadata": {
        "id": "0ex4tcscKRNi",
        "colab_type": "text"
      },
      "source": [
        "**The accuracy for a logistic regression is about 72% on  average. But for previously contacted customers, the accuracy is about 79%**\n",
        "\n",
        "\n"
      ]
    },
    {
      "cell_type": "markdown",
      "metadata": {
        "id": "tKMu631VMTUm",
        "colab_type": "text"
      },
      "source": [
        "**SVM**"
      ]
    },
    {
      "cell_type": "markdown",
      "metadata": {
        "id": "h3QhELjnSZmt",
        "colab_type": "text"
      },
      "source": [
        "**DO NOT RUN THIS CODE!**"
      ]
    },
    {
      "cell_type": "code",
      "metadata": {
        "id": "h7waJBAaVA-E",
        "colab_type": "code",
        "colab": {}
      },
      "source": [
        "# For previously contacted customers "
      ],
      "execution_count": 0,
      "outputs": []
    },
    {
      "cell_type": "code",
      "metadata": {
        "id": "3JP40SDcKQJy",
        "colab_type": "code",
        "outputId": "ec289484-25ec-47f5-ddfa-89bc5d2241b0",
        "colab": {
          "base_uri": "https://localhost:8080/",
          "height": 35
        }
      },
      "source": [
        "x_train1, x_test1, y_train1, y_test1 = train_test_split(X_prev,y_prev.ravel(),test_size=0.30)\n",
        "scale = RobustScaler().fit(x_train1)\n",
        "x_train1_new = scale.transform(x_train1)\n",
        "x_test1_new = scale.transform(x_test1)\n",
        "\n",
        "from sklearn.svm import SVC\n",
        "param_test = {\n",
        "        'C':np.logspace(-5, 0, 20)\n",
        "    }\n",
        "\n",
        "estimator = SVC(kernel = 'rbf',gamma = 'auto')\n",
        "gsearch = GridSearchCV(estimator, param_grid = param_test, cv=10)\n",
        "gsearch.fit(x_train1_new,y_train1)\n",
        "print(gsearch.best_params_)"
      ],
      "execution_count": 0,
      "outputs": [
        {
          "output_type": "stream",
          "text": [
            "{'C': 1.0}\n"
          ],
          "name": "stdout"
        }
      ]
    },
    {
      "cell_type": "markdown",
      "metadata": {
        "id": "IAihmuomSc0S",
        "colab_type": "text"
      },
      "source": [
        "**DO NOT RUN THIS CODE!**"
      ]
    },
    {
      "cell_type": "code",
      "metadata": {
        "id": "0jfpdt6ZSfXH",
        "colab_type": "code",
        "outputId": "cd7cba32-bb4d-4255-83ab-864269f59907",
        "colab": {
          "base_uri": "https://localhost:8080/",
          "height": 35
        }
      },
      "source": [
        "clf = SVC(C = gsearch.best_params_['C'],kernel = 'rbf',gamma = 'auto')\n",
        "clf.fit(x_train1_new,y_train1)\n",
        "y_pred = clf.predict(x_test1_new)\n",
        "accuracy_score(y_test1,y_pred)"
      ],
      "execution_count": 0,
      "outputs": [
        {
          "output_type": "execute_result",
          "data": {
            "text/plain": [
              "0.7755443886097152"
            ]
          },
          "metadata": {
            "tags": []
          },
          "execution_count": 96
        }
      ]
    },
    {
      "cell_type": "code",
      "metadata": {
        "id": "jvfiwrw3U-UX",
        "colab_type": "code",
        "outputId": "258cbf6d-d25c-4203-f1e7-604332328d87",
        "colab": {
          "base_uri": "https://localhost:8080/",
          "height": 35
        }
      },
      "source": [
        "# For not previously contacted customers\n",
        "x_train2, x_test2, y_train2, y_test2 = train_test_split(X_prevNot,y_prevNot.ravel(),test_size=0.30)\n",
        "\n",
        "scale = RobustScaler().fit(x_train2)\n",
        "x_train2_new = scale.transform(x_train2)\n",
        "x_test2_new = scale.transform(x_test2)\n",
        "\n",
        "from sklearn.svm import SVC\n",
        "param_test = {\n",
        "        'C':np.logspace(-5, 0, 20)\n",
        "    }\n",
        "\n",
        "estimator = SVC(kernel = 'rbf',gamma = 'auto')\n",
        "gsearch = GridSearchCV(estimator, param_grid = param_test, cv=10)\n",
        "gsearch.fit(x_train2_new,y_train2)\n",
        "print(gsearch.best_params_)"
      ],
      "execution_count": 0,
      "outputs": [
        {
          "output_type": "stream",
          "text": [
            "{'C': 0.5455594781168515}\n"
          ],
          "name": "stdout"
        }
      ]
    },
    {
      "cell_type": "code",
      "metadata": {
        "id": "zJo-mNGPVRQz",
        "colab_type": "code",
        "outputId": "1dfbe672-caca-4e62-f210-7d550d71a640",
        "colab": {
          "base_uri": "https://localhost:8080/",
          "height": 35
        }
      },
      "source": [
        "clf = SVC(C = gsearch.best_params_['C'],kernel = 'rbf',gamma = 'auto')\n",
        "clf.fit(x_train2_new,y_train2)\n",
        "y_pred = clf.predict(x_test2_new)\n",
        "accuracy_score(y_test2,y_pred)"
      ],
      "execution_count": 0,
      "outputs": [
        {
          "output_type": "execute_result",
          "data": {
            "text/plain": [
              "0.6973684210526315"
            ]
          },
          "metadata": {
            "tags": []
          },
          "execution_count": 100
        }
      ]
    },
    {
      "cell_type": "code",
      "metadata": {
        "id": "WlIC1LaIWQvi",
        "colab_type": "code",
        "outputId": "60ffc874-23e8-4ff3-fdfa-00cc278be7cb",
        "colab": {
          "base_uri": "https://localhost:8080/",
          "height": 35
        }
      },
      "source": [
        "# Weighted Average Accuracy Score\n",
        "((0.6973684210526315 * 5825) + (0.7755443886097152*1988))/(5825+1988)"
      ],
      "execution_count": 0,
      "outputs": [
        {
          "output_type": "execute_result",
          "data": {
            "text/plain": [
              "0.7172601173925115"
            ]
          },
          "metadata": {
            "tags": []
          },
          "execution_count": 101
        }
      ]
    },
    {
      "cell_type": "markdown",
      "metadata": {
        "id": "w88ToBGmWb0E",
        "colab_type": "text"
      },
      "source": [
        "**Decision Tree**"
      ]
    },
    {
      "cell_type": "code",
      "metadata": {
        "id": "6upazYDsWaOm",
        "colab_type": "code",
        "outputId": "67e5a5a7-ab52-493a-f43d-6ef560240cf3",
        "colab": {
          "base_uri": "https://localhost:8080/",
          "height": 35
        }
      },
      "source": [
        "from sklearn.tree import DecisionTreeClassifier\n",
        "\n",
        "X = pd.get_dummies(data= df_1, columns=['job', 'marital', 'education', 'default','month', 'housing', 'loan', 'contact', 'poutcome'],drop_first = True).drop(['deposit'],axis=1)\n",
        "y = df_1['deposit']\n",
        "x_train, x_test, y_train, y_test = train_test_split(X_prevNot,y_prevNot.ravel(),test_size=0.30)\n",
        "\n",
        "param_test = {\n",
        "        'max_depth': [2,3,4,5,6]\n",
        "    }\n",
        "\n",
        "estimator = DecisionTreeClassifier(random_state = 0)\n",
        "gsearch = GridSearchCV(estimator, param_grid = param_test, cv=10)\n",
        "gsearch.fit(x_train,y_train)\n",
        "print(gsearch.best_params_)"
      ],
      "execution_count": 0,
      "outputs": [
        {
          "output_type": "stream",
          "text": [
            "{'max_depth': 6}\n"
          ],
          "name": "stdout"
        }
      ]
    },
    {
      "cell_type": "code",
      "metadata": {
        "id": "66IbWkT4Yma9",
        "colab_type": "code",
        "outputId": "bc4ad4a4-ef71-4938-edea-ab3dadbe59d8",
        "colab": {
          "base_uri": "https://localhost:8080/",
          "height": 35
        }
      },
      "source": [
        "clf = DecisionTreeClassifier(max_depth = gsearch.best_params_['max_depth'],random_state = 0)\n",
        "clf.fit(x_train,y_train)\n",
        "y_pred = clf.predict(x_test)\n",
        "accuracy_score(y_test,y_pred)"
      ],
      "execution_count": 0,
      "outputs": [
        {
          "output_type": "execute_result",
          "data": {
            "text/plain": [
              "0.6390160183066361"
            ]
          },
          "metadata": {
            "tags": []
          },
          "execution_count": 105
        }
      ]
    },
    {
      "cell_type": "markdown",
      "metadata": {
        "id": "U6RaNo1NYzEV",
        "colab_type": "text"
      },
      "source": [
        "**Attempt to better the result**"
      ]
    },
    {
      "cell_type": "code",
      "metadata": {
        "id": "3_FEZqUlYyd5",
        "colab_type": "code",
        "outputId": "b578f36a-1671-404b-cd76-da8e92a6cfbf",
        "colab": {
          "base_uri": "https://localhost:8080/",
          "height": 52
        }
      },
      "source": [
        "# For previously contacted\n",
        "param_test = {\n",
        "        'max_depth': [2,3,4,5,6]\n",
        "    }\n",
        "\n",
        "estimator = DecisionTreeClassifier(random_state = 0)\n",
        "gsearch = GridSearchCV(estimator, param_grid = param_test, cv=10)\n",
        "gsearch.fit(x_train1,y_train1)\n",
        "print(gsearch.best_params_)\n",
        "clf = DecisionTreeClassifier(max_depth = gsearch.best_params_['max_depth'],random_state = 0)\n",
        "clf.fit(x_train1,y_train1)\n",
        "y_pred = clf.predict(x_test1)\n",
        "accuracy_score(y_test1,y_pred)"
      ],
      "execution_count": 0,
      "outputs": [
        {
          "output_type": "stream",
          "text": [
            "{'max_depth': 4}\n"
          ],
          "name": "stdout"
        },
        {
          "output_type": "execute_result",
          "data": {
            "text/plain": [
              "0.7604690117252931"
            ]
          },
          "metadata": {
            "tags": []
          },
          "execution_count": 106
        }
      ]
    },
    {
      "cell_type": "code",
      "metadata": {
        "id": "IyUKZSwYZLyG",
        "colab_type": "code",
        "outputId": "507750f9-2a01-4f5e-860a-c1acf9cf1572",
        "colab": {
          "base_uri": "https://localhost:8080/",
          "height": 52
        }
      },
      "source": [
        "# For not previously contacted\n",
        "param_test = {\n",
        "        'max_depth': [2,3,4,5,6]\n",
        "    }\n",
        "\n",
        "estimator = DecisionTreeClassifier(random_state = 0)\n",
        "gsearch = GridSearchCV(estimator, param_grid = param_test, cv=10)\n",
        "gsearch.fit(x_train2,y_train2)\n",
        "print(gsearch.best_params_)\n",
        "clf = DecisionTreeClassifier(max_depth = gsearch.best_params_['max_depth'],random_state = 0)\n",
        "clf.fit(x_train2,y_train2)\n",
        "y_pred = clf.predict(x_test2)\n",
        "accuracy_score(y_test2,y_pred)"
      ],
      "execution_count": 0,
      "outputs": [
        {
          "output_type": "stream",
          "text": [
            "{'max_depth': 6}\n"
          ],
          "name": "stdout"
        },
        {
          "output_type": "execute_result",
          "data": {
            "text/plain": [
              "0.6710526315789473"
            ]
          },
          "metadata": {
            "tags": []
          },
          "execution_count": 107
        }
      ]
    },
    {
      "cell_type": "code",
      "metadata": {
        "id": "7Ihx6Ed_ZSYz",
        "colab_type": "code",
        "outputId": "0cecd091-560b-4aac-f6e3-ed1ed5053f7c",
        "colab": {
          "base_uri": "https://localhost:8080/",
          "height": 35
        }
      },
      "source": [
        "# Weighted Average Accuracy Score\n",
        "((0.6710526315789473 * 5825) + (0.7604690117252931*1988))/(5825+1988)"
      ],
      "execution_count": 0,
      "outputs": [
        {
          "output_type": "execute_result",
          "data": {
            "text/plain": [
              "0.6938044252217139"
            ]
          },
          "metadata": {
            "tags": []
          },
          "execution_count": 108
        }
      ]
    },
    {
      "cell_type": "markdown",
      "metadata": {
        "id": "p1WdCcyLZZjl",
        "colab_type": "text"
      },
      "source": [
        "**This is still better than before**"
      ]
    },
    {
      "cell_type": "markdown",
      "metadata": {
        "id": "c6nYVZPlZcjm",
        "colab_type": "text"
      },
      "source": [
        "**Random Forest**"
      ]
    },
    {
      "cell_type": "code",
      "metadata": {
        "id": "9VtEkt9bZpSQ",
        "colab_type": "code",
        "outputId": "79ad4a5b-87a9-496e-afb0-968e12e051dd",
        "colab": {
          "base_uri": "https://localhost:8080/",
          "height": 88
        }
      },
      "source": [
        "from sklearn.ensemble import RandomForestClassifier\n",
        "\n",
        "# grid search\n",
        "param_test = {\n",
        "    'n_estimators':[10,50,100,200],\n",
        "    'max_depth':[2,3,4,5,6]\n",
        "    }\n",
        "estimator = RandomForestClassifier()\n",
        "gsearch = GridSearchCV(estimator, param_grid = param_test, cv=10)\n",
        "gsearch.fit(x_train,y_train)\n",
        "print('best score is:',str(gsearch.best_score_))\n",
        "print('best params are:',str(gsearch.best_params_))"
      ],
      "execution_count": 0,
      "outputs": [
        {
          "output_type": "stream",
          "text": [
            "/usr/lib/python3.6/importlib/_bootstrap.py:219: RuntimeWarning: numpy.ufunc size changed, may indicate binary incompatibility. Expected 192 from C header, got 216 from PyObject\n",
            "  return f(*args, **kwds)\n"
          ],
          "name": "stderr"
        },
        {
          "output_type": "stream",
          "text": [
            "best score is: 0.6970811871474123\n",
            "best params are: {'max_depth': 6, 'n_estimators': 200}\n"
          ],
          "name": "stdout"
        }
      ]
    },
    {
      "cell_type": "code",
      "metadata": {
        "id": "LJw2AL0TaL8F",
        "colab_type": "code",
        "outputId": "aa4d5660-258e-4b8a-8763-fecd04f8dbfe",
        "colab": {
          "base_uri": "https://localhost:8080/",
          "height": 35
        }
      },
      "source": [
        "# fit a model with optimal parameters\n",
        "\n",
        "clf = RandomForestClassifier(max_depth = gsearch.best_params_['max_depth'], n_estimators = gsearch.best_params_['n_estimators'])\n",
        "clf.fit(x_train,y_train)\n",
        "y_pred = clf.predict(x_test)\n",
        "accuracy_score(y_test,y_pred)"
      ],
      "execution_count": 0,
      "outputs": [
        {
          "output_type": "execute_result",
          "data": {
            "text/plain": [
              "0.6853546910755148"
            ]
          },
          "metadata": {
            "tags": []
          },
          "execution_count": 110
        }
      ]
    },
    {
      "cell_type": "markdown",
      "metadata": {
        "id": "VU1NThIlaHGI",
        "colab_type": "text"
      },
      "source": [
        "**Accuracy seems decent. What if we seperate the dataset?**"
      ]
    },
    {
      "cell_type": "code",
      "metadata": {
        "id": "LcyrLF5Uafoi",
        "colab_type": "code",
        "outputId": "2a3e341d-284d-43b1-cbe7-c817eddc48fc",
        "colab": {
          "base_uri": "https://localhost:8080/",
          "height": 52
        }
      },
      "source": [
        "# grid search\n",
        "param_test = {\n",
        "    'n_estimators':[10,50,100,200],\n",
        "    'max_depth':[2,3,4,5,6]\n",
        "    }\n",
        "estimator = RandomForestClassifier()\n",
        "gsearch = GridSearchCV(estimator, param_grid = param_test, cv=10)\n",
        "gsearch.fit(x_train1,y_train1)\n",
        "print('best score is:',str(gsearch.best_score_))\n",
        "print('best params are:',str(gsearch.best_params_))"
      ],
      "execution_count": 0,
      "outputs": [
        {
          "output_type": "stream",
          "text": [
            "best score is: 0.7649173256649893\n",
            "best params are: {'max_depth': 6, 'n_estimators': 50}\n"
          ],
          "name": "stdout"
        }
      ]
    },
    {
      "cell_type": "code",
      "metadata": {
        "id": "FcgnY69yaisG",
        "colab_type": "code",
        "outputId": "59949e95-a3e0-4b8b-cb2d-4ff8b22f8f3c",
        "colab": {
          "base_uri": "https://localhost:8080/",
          "height": 35
        }
      },
      "source": [
        "# fit a model with optimal parameters\n",
        "\n",
        "clf = RandomForestClassifier(max_depth = gsearch.best_params_['max_depth'], n_estimators = gsearch.best_params_['n_estimators'])\n",
        "clf.fit(x_train1,y_train1)\n",
        "y_pred = clf.predict(x_test1)\n",
        "accuracy_score(y_test1,y_pred)"
      ],
      "execution_count": 0,
      "outputs": [
        {
          "output_type": "execute_result",
          "data": {
            "text/plain": [
              "0.7721943048576214"
            ]
          },
          "metadata": {
            "tags": []
          },
          "execution_count": 112
        }
      ]
    },
    {
      "cell_type": "code",
      "metadata": {
        "id": "XgXryH9oamQJ",
        "colab_type": "code",
        "outputId": "794a9f93-19b9-41aa-cb39-f19377fe8e46",
        "colab": {
          "base_uri": "https://localhost:8080/",
          "height": 52
        }
      },
      "source": [
        "# grid search\n",
        "param_test = {\n",
        "    'n_estimators':[10,50,100,200],\n",
        "    'max_depth':[2,3,4,5,6]\n",
        "    }\n",
        "estimator = RandomForestClassifier()\n",
        "gsearch = GridSearchCV(estimator, param_grid = param_test, cv=10)\n",
        "gsearch.fit(x_train2,y_train2)\n",
        "print('best score is:',str(gsearch.best_score_))\n",
        "print('best params are:',str(gsearch.best_params_))"
      ],
      "execution_count": 0,
      "outputs": [
        {
          "output_type": "stream",
          "text": [
            "best score is: 0.6853078243806721\n",
            "best params are: {'max_depth': 6, 'n_estimators': 200}\n"
          ],
          "name": "stdout"
        }
      ]
    },
    {
      "cell_type": "code",
      "metadata": {
        "id": "WtbyEzHgaqc4",
        "colab_type": "code",
        "outputId": "5a21e31d-2dc6-4fe1-a3d6-6c2daeb60529",
        "colab": {
          "base_uri": "https://localhost:8080/",
          "height": 35
        }
      },
      "source": [
        "# fit a model with optimal parameters\n",
        "\n",
        "clf = RandomForestClassifier(max_depth = gsearch.best_params_['max_depth'], n_estimators = gsearch.best_params_['n_estimators'])\n",
        "clf.fit(x_train2,y_train2)\n",
        "y_pred = clf.predict(x_test2)\n",
        "accuracy_score(y_test2,y_pred)"
      ],
      "execution_count": 0,
      "outputs": [
        {
          "output_type": "execute_result",
          "data": {
            "text/plain": [
              "0.6967963386727689"
            ]
          },
          "metadata": {
            "tags": []
          },
          "execution_count": 114
        }
      ]
    },
    {
      "cell_type": "code",
      "metadata": {
        "id": "H9ghPy_-a8xa",
        "colab_type": "code",
        "outputId": "06e19a27-54ce-4692-f4ab-51e9999a4fdd",
        "colab": {
          "base_uri": "https://localhost:8080/",
          "height": 35
        }
      },
      "source": [
        "# Weighted Average Accuracy Score\n",
        "((0.6967963386727689 * 5825) + (0.7721943048576214*1988))/(5825+1988)"
      ],
      "execution_count": 0,
      "outputs": [
        {
          "output_type": "execute_result",
          "data": {
            "text/plain": [
              "0.7159811789102561"
            ]
          },
          "metadata": {
            "tags": []
          },
          "execution_count": 115
        }
      ]
    },
    {
      "cell_type": "markdown",
      "metadata": {
        "id": "bsroB-QSa4Zf",
        "colab_type": "text"
      },
      "source": [
        "**Again, we can see that even the random forest model performs better when we seperate the dataset.**"
      ]
    },
    {
      "cell_type": "markdown",
      "metadata": {
        "id": "BjPlB2eibWIG",
        "colab_type": "text"
      },
      "source": [
        "**GBDT**"
      ]
    },
    {
      "cell_type": "code",
      "metadata": {
        "id": "9coo3BNvbVjw",
        "colab_type": "code",
        "colab": {}
      },
      "source": [
        ""
      ],
      "execution_count": 0,
      "outputs": []
    },
    {
      "cell_type": "markdown",
      "metadata": {
        "id": "qQt237k9caxM",
        "colab_type": "text"
      },
      "source": [
        "**MLP/Neural Network**"
      ]
    },
    {
      "cell_type": "code",
      "metadata": {
        "id": "eos6chV7iNJ2",
        "colab_type": "code",
        "colab": {}
      },
      "source": [
        ""
      ],
      "execution_count": 0,
      "outputs": []
    },
    {
      "cell_type": "markdown",
      "metadata": {
        "id": "2NXD2ZjciFEh",
        "colab_type": "text"
      },
      "source": [
        "**Helper Function**"
      ]
    },
    {
      "cell_type": "code",
      "metadata": {
        "id": "V5wNJvw5iGyE",
        "colab_type": "code",
        "colab": {}
      },
      "source": [
        "# This function prepares the prediction dataset by seperating previously contacted and previously not contacted customers\n",
        "# @param:  trainingData1: X of previously contacted customers\n",
        "#          trainingData2: X of previously not contacted customers\n",
        "#          newData: the dataset to scale and seperate\n",
        "# @return: two dataframes\n",
        "def prepareData(x_train1,x_train2,newData):\n",
        "  newData_1 = newData[['age', 'job', 'marital', 'education', 'default',\n",
        "       'balance', 'housing', 'loan', 'contact', 'month', 'campaign',\n",
        "       'pdays', 'previous', 'poutcome', 'deposit']]\n",
        "  \n",
        "  \n",
        "  \n",
        "  newData_prevCont = newData_1[newData_1['pdays'] != -1]\n",
        "  x_pred1 = pd.get_dummies(data= newData_prevCont, columns=['job', 'marital', 'education', 'default','month', 'housing', 'loan', 'contact', 'poutcome'],drop_first = True)\n",
        "  scale = RobustScaler().fit(x_train1)\n",
        "  x_pred1_new = scale.transform(x_pred1)\n",
        "  \n",
        "  \n",
        "  newData_prevNotCont = newData_1[newData_1['pdays'] == -1]\n",
        "  x_pred2 = pd.get_dummies(data= newData_prevNotCont, columns=['job', 'marital', 'education', 'default','month', 'housing', 'loan', 'contact', 'poutcome'],drop_first = True).drop(['pdays'],axis=1)\n",
        "  scale = RobustScaler().fit(x_train2)\n",
        "  x_pred2_new = scale.transform(x_pred2)\n",
        "  \n",
        "  return x_pred1_new,x_pred2_new\n",
        "  "
      ],
      "execution_count": 0,
      "outputs": []
    }
  ]
}